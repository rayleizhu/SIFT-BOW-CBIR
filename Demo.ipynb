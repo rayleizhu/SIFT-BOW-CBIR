{
 "cells": [
  {
   "cell_type": "code",
   "execution_count": 1,
   "metadata": {},
   "outputs": [],
   "source": [
    "data_dir = '/home/zhulei/Data/pg_data/Images'\n",
    "query_dir = '/home/zhulei/Data/pg_data/Queries'"
   ]
  },
  {
   "cell_type": "code",
   "execution_count": 2,
   "metadata": {},
   "outputs": [],
   "source": [
    "import os\n",
    "\n",
    "im_bb_path_tuples = [(os.path.join(query_dir, '{:02d}.jpg'.format(i)),\n",
    "                      os.path.join(query_dir, '{:02d}.txt'.format(i))\n",
    "                     ) for i in range(1, 51)\n",
    "                    ]"
   ]
  },
  {
   "cell_type": "code",
   "execution_count": 3,
   "metadata": {},
   "outputs": [
    {
     "name": "stderr",
     "output_type": "stream",
     "text": [
      "2020-03-22 07:00:17,846 - INFO - Rebuilding KNN for image retrieval...\n",
      "2020-03-22 07:00:17,848 - INFO - Building Finished!\n"
     ]
    }
   ],
   "source": [
    "from image_db_v2 import ImageDB\n",
    "\n",
    "cluster_im_num = 2048\n",
    "vsize = 2048\n",
    "\n",
    "im_db_copy = ImageDB()\n",
    "im_db_copy.load('cin2048_vsize2048_db.joblib')\n",
    "im_db_copy.switch_sim_metric('cosine')\n",
    "# im_db_copy.migrate_to_tfidf()\n",
    "# im_db_copy.save('cin{:d}_vsize{:d}_tfidf_db.joblib'.format(cluster_im_num, vsize))"
   ]
  },
  {
   "cell_type": "code",
   "execution_count": 4,
   "metadata": {},
   "outputs": [],
   "source": [
    "result_dir = 'result'\n",
    "os.makedirs(result_dir, exist_ok=True)"
   ]
  },
  {
   "cell_type": "code",
   "execution_count": 8,
   "metadata": {},
   "outputs": [
    {
     "name": "stdout",
     "output_type": "stream",
     "text": [
      "number of images in database: 28493\n",
      "processing queries...\n"
     ]
    },
    {
     "name": "stderr",
     "output_type": "stream",
     "text": [
      "100%|██████████| 50/50 [00:32<00:00,  1.56it/s]\n"
     ]
    }
   ],
   "source": [
    "import pandas as pd\n",
    "from tqdm import tqdm\n",
    "import string\n",
    "import time\n",
    "\n",
    "DEBUG = False\n",
    "\n",
    "def im_path_to_id(im_path):\n",
    "    im_name = os.path.basename(im_path)\n",
    "    im_id = int(os.path.splitext(im_name)[0]) # to remove leading zeros\n",
    "    return str(im_id)\n",
    "\n",
    "num_imgs = len(os.listdir(data_dir))\n",
    "print('number of images in database: {:d}'.format(num_imgs))\n",
    "print('processing queries...')\n",
    "time.sleep(1) # just to avoid print function to interupt progress bar which makes me uncomfortable\n",
    "\n",
    "rankfile = os.path.join(result_dir, 'rankList.txt')\n",
    "with open(rankfile, 'w') as f:\n",
    "    i = 1\n",
    "    for (im_path, bb_path) in tqdm(im_bb_path_tuples, disable=DEBUG):\n",
    "        similar_imgs =  im_db_copy.retrieve_and_locate(im_path, bb_path, top_k=num_imgs, locate=False)\n",
    "        line = 'Q{:d}: '.format(i)\n",
    "        if DEBUG:\n",
    "            print(line+' '.join([ im_path_to_id(x[0]) for x in similar_imgs[:10] ]))\n",
    "            print('score: ' + ' '.join([ '{:.4f}'.format(x[1]) for x in similar_imgs[:10] ]))\n",
    "        \n",
    "        line += ' '.join([ im_path_to_id(x[0]) for x in similar_imgs ])\n",
    "#         line += ' '.join([ im_path_to_id(v[0]) for k, v in similar_imgs.items() ][1:])\n",
    "        line += '\\n'\n",
    "        f.writelines(line)\n",
    "        i += 1\n",
    "        "
   ]
  },
  {
   "cell_type": "code",
   "execution_count": null,
   "metadata": {},
   "outputs": [],
   "source": []
  },
  {
   "cell_type": "code",
   "execution_count": null,
   "metadata": {},
   "outputs": [],
   "source": []
  }
 ],
 "metadata": {
  "kernelspec": {
   "display_name": "Python 3",
   "language": "python",
   "name": "python3"
  },
  "language_info": {
   "codemirror_mode": {
    "name": "ipython",
    "version": 3
   },
   "file_extension": ".py",
   "mimetype": "text/x-python",
   "name": "python",
   "nbconvert_exporter": "python",
   "pygments_lexer": "ipython3",
   "version": "3.7.3"
  }
 },
 "nbformat": 4,
 "nbformat_minor": 2
}
